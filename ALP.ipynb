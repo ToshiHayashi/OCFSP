{
 "cells": [
  {
   "cell_type": "code",
   "execution_count": 5,
   "id": "614ef618",
   "metadata": {},
   "outputs": [],
   "source": [
    "from imblearn.datasets import fetch_datasets\n",
    "import pandas as pd\n",
    "import numpy as np\n",
    "\n",
    "from sklearn.model_selection import train_test_split\n",
    "from sklearn.mixture import GaussianMixture\n",
    "from sklearn.metrics import precision_score,accuracy_score,roc_auc_score\n",
    "from sklearn.metrics import balanced_accuracy_score\n",
    "from tqdm import tqdm\n",
    "import pickle\n",
    "def makefile(what,filename):\n",
    "    with open(filename,\"wb\") as f3:\n",
    "        pickle.dump(what,f3)\n",
    "\n",
    "def readfile(filename):\n",
    "    with open(filename,\"rb\") as f4:\n",
    "        ans=pickle.load(f4)\n",
    "    return ans\n",
    "import random"
   ]
  },
  {
   "cell_type": "code",
   "execution_count": null,
   "id": "be9d2d84",
   "metadata": {},
   "outputs": [],
   "source": []
  },
  {
   "cell_type": "code",
   "execution_count": 6,
   "id": "1fc775c1",
   "metadata": {},
   "outputs": [],
   "source": [
    "fetch_dataset=fetch_datasets()\n",
    "data_name=[]\n",
    "for word in fetch_dataset:\n",
    "    data_name.append(word)"
   ]
  },
  {
   "cell_type": "code",
   "execution_count": 8,
   "id": "a36a8553",
   "metadata": {},
   "outputs": [],
   "source": [
    "import warnings\n",
    "warnings.filterwarnings(\"ignore\")"
   ]
  },
  {
   "cell_type": "code",
   "execution_count": 9,
   "id": "9894314e",
   "metadata": {},
   "outputs": [],
   "source": [
    "from frlearn.neighbours.data_descriptors import ALP"
   ]
  },
  {
   "cell_type": "code",
   "execution_count": null,
   "id": "d22d736e",
   "metadata": {},
   "outputs": [],
   "source": [
    "test_split=[0.2,0.4,0.9]\n",
    "minor_result=[]\n",
    "major_result=[]\n",
    "both_result=[]\n",
    "for word in data_name:\n",
    "\n",
    "    print(word)\n",
    "    X=fetch_dataset[word][\"data\"]\n",
    "    Y=fetch_dataset[word][\"target\"]\n",
    "    print(word,\":\",len(X[Y==1]),\":\",len(X[Y==-1]),\":\",len(X[0]))\n",
    "    X=(X-X.min(axis=0))/(X.max(axis=0)-X.min(axis=0))\n",
    "    X[pd.isnull(X)]=0\n",
    "    random.seed(0)\n",
    "    d=len(X[0])\n",
    "    minor_line=[]\n",
    "    major_line=[]\n",
    "    both_line=[]\n",
    "    for split in test_split:\n",
    "        minor_score=[]\n",
    "        major_score=[]\n",
    "        result=[]\n",
    "        for random_value in range(5):\n",
    "            X_train, X_test, y_train, y_test = train_test_split(X, Y, test_size=split, random_state=random_value,stratify=Y)\n",
    "            positive=X_train[y_train==1]\n",
    "            negative=X_train[y_train==-1]\n",
    "            try:\n",
    "                model=ALP()\n",
    "                model=model.construct(positive)\n",
    "                value1=model.query(X_test)\n",
    "                minor_score.append(roc_auc_score(y_test,value1))\n",
    "            except:\n",
    "                value1=np.zeros(len(X_test))\n",
    "\n",
    "            try:\n",
    "                model=ALP()\n",
    "                model=model.construct(negative)\n",
    "                value2=model.query(X_test)            \n",
    "                major_score.append(roc_auc_score(-y_test,value2))\n",
    "            except:\n",
    "                value2=np.zeros(len(X_test))\n",
    "            final_score=value1-value2\n",
    "            print(roc_auc_score(y_test,final_score))\n",
    "            result.append(roc_auc_score(y_test,final_score))\n",
    "        minor_line.append(np.array([np.array(minor_score).mean(),np.array(minor_score).std()]))\n",
    "        major_line.append(np.array([np.array(major_score).mean(),np.array(major_score).std()]))\n",
    "        both_line.append(np.array([np.array(result).mean(),np.array(result).std()]))\n",
    "    minor_result.append(minor_line)\n",
    "    major_result.append(major_line)\n",
    "    both_result.append(both_line)\n",
    "makefile(minor_result,\"ALPmin_5AUC.pkl\")\n",
    "makefile(major_result,\"ALPmaj_5AUC.pkl\")\n",
    "makefile(both_result,\"ALPensemble_5AUC.pkl\")"
   ]
  },
  {
   "cell_type": "code",
   "execution_count": 14,
   "id": "9eb2b86e",
   "metadata": {},
   "outputs": [],
   "source": [
    "from sklearn.datasets import fetch_covtype\n",
    "file=fetch_covtype()\n",
    "data=file[\"data\"]\n",
    "target=file[\"target\"]\n",
    "labels=dict()\n",
    "for word in target:\n",
    "    if word in labels:\n",
    "        labels[word]+=1\n",
    "    else:\n",
    "        labels[word]=1"
   ]
  },
  {
   "cell_type": "code",
   "execution_count": 23,
   "id": "8b18b1f6",
   "metadata": {},
   "outputs": [
    {
     "name": "stdout",
     "output_type": "stream",
     "text": [
      "5 : 9493 : 571519 : 54\n"
     ]
    }
   ],
   "source": [
    "minor_result=[]\n",
    "for word in labels:\n",
    "    Y=np.zeros(len(target))\n",
    "    Y[:]=-1\n",
    "    Y[target==word]=1\n",
    "    test_split=[0.2,0.4,0.9]\n",
    "    X=data[:]\n",
    "    print(word,\":\",len(X[Y==1]),\":\",len(X[Y==-1]),\":\",len(X[0]))\n",
    "    X=(X-X.min(axis=0))/(X.max(axis=0)-X.min(axis=0)+0.0000001)\n",
    "    X[pd.isnull(X)]=0\n",
    "    random.seed(0)\n",
    "    d=len(X[0])\n",
    "    minor_line=[]\n",
    "    for split in test_split:\n",
    "        minor_score=[]\n",
    "        for random_value in range(5):\n",
    "            try:\n",
    "                model=ALP()\n",
    "                X_train, X_test, y_train, y_test = train_test_split(X, Y, test_size=split, random_state=random_value,stratify=Y)\n",
    "                positive=X_train[y_train==1]\n",
    "                #negative=X_train[y_train==-1]\n",
    "                model=model.construct(positive)\n",
    "                value1=model.query(X_test) \n",
    "                minor_score.append(roc_auc_score(y_test,value1))\n",
    "            except:\n",
    "                minor_score.append(0.5)\n",
    "        print(np.array(minor_score).mean())\n",
    "        minor_line.append(np.array([np.array(minor_score).mean(),np.array(minor_score).std()]))\n",
    "            \n",
    "        \n",
    "    minor_result.append(minor_line)\n",
    "    #major_result.append(major_table)\n",
    "    #both_result.append(both_table)\n",
    "makefile(minor_result,\"ALP-COV.pkl\")"
   ]
  },
  {
   "cell_type": "code",
   "execution_count": 27,
   "id": "e6dd4fe1",
   "metadata": {},
   "outputs": [],
   "source": []
  },
  {
   "cell_type": "code",
   "execution_count": 28,
   "id": "ac6aea6c",
   "metadata": {},
   "outputs": [],
   "source": []
  },
  {
   "cell_type": "code",
   "execution_count": 29,
   "id": "a7140ea8",
   "metadata": {},
   "outputs": [],
   "source": []
  },
  {
   "cell_type": "code",
   "execution_count": 31,
   "id": "3bff74d8",
   "metadata": {},
   "outputs": [],
   "source": []
  },
  {
   "cell_type": "code",
   "execution_count": null,
   "id": "ac7fd9b0",
   "metadata": {},
   "outputs": [],
   "source": [
    "minor_result=[]\n",
    "for word in labels:\n",
    "    Y=np.zeros(len(target))\n",
    "    Y[:]=-1\n",
    "    Y[target==word]=1\n",
    "    test_split=[0.2,0.4,0.9]\n",
    "    X=data[:]\n",
    "    print(word,\":\",len(X[Y==1]),\":\",len(X[Y==-1]),\":\",len(X[0]))\n",
    "    X=(X-X.min(axis=0))/(X.max(axis=0)-X.min(axis=0)+0.0000001)\n",
    "    X[pd.isnull(X)]=0\n",
    "    random.seed(0)\n",
    "    d=len(X[0])\n",
    "    minor_line=[]\n",
    "    \n",
    "    for split in test_split:\n",
    "        minor_score=[]\n",
    "        \n",
    "        for random_value in range(5):\n",
    "            try:\n",
    "                model=ALP()\n",
    "                X_train, X_test, y_train, y_test = train_test_split(X, Y, test_size=split, random_state=random_value,stratify=Y)\n",
    "                positive=X_train[y_train==1]\n",
    "                #negative=X_train[y_train==-1]\n",
    "                model=model.construct(positive)\n",
    "                value1=model.query(X_test) \n",
    "                minor_score.append(roc_auc_score(y_test,value1))\n",
    "            except:\n",
    "                minor_score.append(0.5)\n",
    "        print(np.array(minor_score).mean())\n",
    "        minor_line.append(np.array([np.array(minor_score).mean(),np.array(minor_score).std()]))\n",
    "            \n",
    "        \n",
    "    minor_result.append(minor_line)\n",
    "    #major_result.append(major_table)\n",
    "    #both_result.append(both_table)\n",
    "makefile(minor_result,\"ALP-KDD.pkl\")"
   ]
  }
 ],
 "metadata": {
  "kernelspec": {
   "display_name": "Python 3",
   "language": "python",
   "name": "python3"
  },
  "language_info": {
   "codemirror_mode": {
    "name": "ipython",
    "version": 3
   },
   "file_extension": ".py",
   "mimetype": "text/x-python",
   "name": "python",
   "nbconvert_exporter": "python",
   "pygments_lexer": "ipython3",
   "version": "3.8.8"
  }
 },
 "nbformat": 4,
 "nbformat_minor": 5
}
